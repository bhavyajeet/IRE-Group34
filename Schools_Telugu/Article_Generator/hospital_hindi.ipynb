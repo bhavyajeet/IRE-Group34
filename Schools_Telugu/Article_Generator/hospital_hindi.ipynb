{
 "cells": [
  {
   "cell_type": "code",
   "execution_count": 2,
   "metadata": {},
   "outputs": [
    {
     "ename": "ModuleNotFoundError",
     "evalue": "No module named 'indic_transliteration'",
     "output_type": "error",
     "traceback": [
      "\u001b[0;31m---------------------------------------------------------------------------\u001b[0m",
      "\u001b[0;31mModuleNotFoundError\u001b[0m                       Traceback (most recent call last)",
      "\u001b[0;32m<ipython-input-2-6d05a406cd2e>\u001b[0m in \u001b[0;36m<module>\u001b[0;34m\u001b[0m\n\u001b[1;32m      5\u001b[0m \u001b[0;31m# import pandas as pd\u001b[0m\u001b[0;34m\u001b[0m\u001b[0;34m\u001b[0m\u001b[0;34m\u001b[0m\u001b[0m\n\u001b[1;32m      6\u001b[0m \u001b[0;34m\u001b[0m\u001b[0m\n\u001b[0;32m----> 7\u001b[0;31m \u001b[0;32mfrom\u001b[0m \u001b[0mindic_transliteration\u001b[0m \u001b[0;32mimport\u001b[0m \u001b[0msanscript\u001b[0m\u001b[0;34m\u001b[0m\u001b[0;34m\u001b[0m\u001b[0m\n\u001b[0m\u001b[1;32m      8\u001b[0m \u001b[0;32mfrom\u001b[0m \u001b[0mindic_transliteration\u001b[0m\u001b[0;34m.\u001b[0m\u001b[0msanscript\u001b[0m \u001b[0;32mimport\u001b[0m \u001b[0mSchemeMap\u001b[0m\u001b[0;34m,\u001b[0m \u001b[0mSCHEMES\u001b[0m\u001b[0;34m,\u001b[0m \u001b[0mtransliterate\u001b[0m\u001b[0;34m\u001b[0m\u001b[0;34m\u001b[0m\u001b[0m\n",
      "\u001b[0;31mModuleNotFoundError\u001b[0m: No module named 'indic_transliteration'"
     ]
    }
   ],
   "source": [
    "import re\n",
    "import math\n",
    "import pickle\n",
    "import random\n",
    "import pandas as pd\n",
    "\n",
    "from indic_transliteration import sanscript\n",
    "from indic_transliteration.sanscript import SchemeMap, SCHEMES, transliterate\n",
    "from googletrans import Translator"
   ]
  },
  {
   "cell_type": "code",
   "execution_count": 1,
   "metadata": {},
   "outputs": [],
   "source": [
    "# Data List\n",
    "nums = [0,1,2,3,4,5,6,7,8,9,10,11,12,13,14,15,16,17,18,19,20,30,40,50,60,70,80,90,100]\n",
    "hindiN = ['शून्य','एक','दो','तीन','चार','पांच','छह','सात ','आठ','नौ','दस','ग्यारह','बारह','तेरह','चौदह','पन्द्रह','सोलह','सत्रह','अठारह','उन्नीस','बीस','तीस','चालीस','पचास','साठ','सत्तर','अस्सी','नब्बे','एक सौ']\n",
    "\n",
    "letters = ['a','b','c','d','e','f','g','h','i','j','k','l','m','n','o','p','q','r','s','t','u','v','w','x','y','z']\n",
    "hindiL = ['ए', 'बी', 'सी', 'डी', 'ई', 'एफ', 'जी', 'एच', 'आई', 'जे', 'के', 'एल', 'एम','एन', 'ओ', 'पी', 'क्यू', 'आर', 'एस', 'टी', 'यू','वी', 'डब्ल्यू', 'एक्स', 'वाई', 'जेड']\n",
    "\n",
    "hindi_letters ={letters[i]:hindiL[i] for i in range(len(letters))} \n",
    "hindi_nums = {nums[i]:hindiN[i] for i in range(len(nums))}"
   ]
  },
  {
   "cell_type": "code",
   "execution_count": 2,
   "metadata": {},
   "outputs": [
    {
     "ename": "NameError",
     "evalue": "name 'Translator' is not defined",
     "output_type": "error",
     "traceback": [
      "\u001b[0;31m---------------------------------------------------------------------------\u001b[0m",
      "\u001b[0;31mNameError\u001b[0m                                 Traceback (most recent call last)",
      "\u001b[0;32m<ipython-input-2-5f85f46caa5d>\u001b[0m in \u001b[0;36m<module>\u001b[0;34m\u001b[0m\n\u001b[0;32m----> 1\u001b[0;31m \u001b[0mtranslator\u001b[0m \u001b[0;34m=\u001b[0m \u001b[0mTranslator\u001b[0m\u001b[0;34m(\u001b[0m\u001b[0;34m)\u001b[0m\u001b[0;34m\u001b[0m\u001b[0;34m\u001b[0m\u001b[0m\n\u001b[0m\u001b[1;32m      2\u001b[0m \u001b[0mdata\u001b[0m \u001b[0;34m=\u001b[0m \u001b[0;34m[\u001b[0m\u001b[0;34m'Tamil Nadu'\u001b[0m\u001b[0;34m,\u001b[0m \u001b[0;34m'Maharashtra'\u001b[0m\u001b[0;34m,\u001b[0m \u001b[0;34m'Trivandrum'\u001b[0m\u001b[0;34m,\u001b[0m \u001b[0;34m'Salem'\u001b[0m\u001b[0;34m,\u001b[0m \u001b[0;34m'Trichy'\u001b[0m\u001b[0;34m,\u001b[0m \u001b[0;34m'Coimbatore'\u001b[0m\u001b[0;34m,\u001b[0m \u001b[0;34m'Pondicherry'\u001b[0m\u001b[0;34m]\u001b[0m\u001b[0;34m\u001b[0m\u001b[0;34m\u001b[0m\u001b[0m\n\u001b[1;32m      3\u001b[0m \u001b[0;32mfor\u001b[0m \u001b[0mplace\u001b[0m \u001b[0;32min\u001b[0m \u001b[0mdata\u001b[0m\u001b[0;34m:\u001b[0m\u001b[0;34m\u001b[0m\u001b[0;34m\u001b[0m\u001b[0m\n\u001b[1;32m      4\u001b[0m     \u001b[0mtext\u001b[0m \u001b[0;34m=\u001b[0m \u001b[0mtranslator\u001b[0m\u001b[0;34m.\u001b[0m\u001b[0mtranslate\u001b[0m\u001b[0;34m(\u001b[0m\u001b[0mplace\u001b[0m\u001b[0;34m,\u001b[0m \u001b[0msrc\u001b[0m\u001b[0;34m=\u001b[0m\u001b[0;34m'en'\u001b[0m\u001b[0;34m,\u001b[0m \u001b[0mdest\u001b[0m\u001b[0;34m=\u001b[0m\u001b[0;34m'hi'\u001b[0m\u001b[0;34m)\u001b[0m\u001b[0;34m\u001b[0m\u001b[0;34m\u001b[0m\u001b[0m\n\u001b[1;32m      5\u001b[0m     \u001b[0mprint\u001b[0m\u001b[0;34m(\u001b[0m\u001b[0mtext\u001b[0m\u001b[0;34m.\u001b[0m\u001b[0mtext\u001b[0m\u001b[0;34m,\u001b[0m \u001b[0mend\u001b[0m\u001b[0;34m=\u001b[0m\u001b[0;34m'  '\u001b[0m\u001b[0;34m)\u001b[0m\u001b[0;34m\u001b[0m\u001b[0;34m\u001b[0m\u001b[0m\n",
      "\u001b[0;31mNameError\u001b[0m: name 'Translator' is not defined"
     ]
    }
   ],
   "source": [
    "translator = Translator()\n",
    "data = ['Tamil Nadu', 'Maharashtra', 'Trivandrum', 'Salem', 'Trichy', 'Coimbatore', 'Pondicherry']\n",
    "for place in data:\n",
    "    text = translator.translate(place, src='en', dest='hi')\n",
    "    print(text.text, end='  ')\n",
    "    print(transliterate(place, sanscript.ITRANS, sanscript.DEVANAGARI))\n",
    "\n",
    "# So we need to process the text before conversion as it is difficult to convert directly\n",
    "print(translator.translate('104,2ND AGRAHARAM,NEAR OLD BUS STAND', src='en', dest='hi').text)"
   ]
  },
  {
   "cell_type": "code",
   "execution_count": 3,
   "metadata": {},
   "outputs": [
    {
     "ename": "NameError",
     "evalue": "name 'pd' is not defined",
     "output_type": "error",
     "traceback": [
      "\u001b[0;31m---------------------------------------------------------------------------\u001b[0m",
      "\u001b[0;31mNameError\u001b[0m                                 Traceback (most recent call last)",
      "\u001b[0;32m<ipython-input-3-b5c61881e2e5>\u001b[0m in \u001b[0;36m<module>\u001b[0;34m\u001b[0m\n\u001b[0;32m----> 1\u001b[0;31m \u001b[0mhospitals\u001b[0m \u001b[0;34m=\u001b[0m \u001b[0mpd\u001b[0m\u001b[0;34m.\u001b[0m\u001b[0mread_excel\u001b[0m\u001b[0;34m(\u001b[0m\u001b[0;34m'./drive/My Drive/HospitalData.xls'\u001b[0m\u001b[0;34m)\u001b[0m\u001b[0;34m\u001b[0m\u001b[0;34m\u001b[0m\u001b[0m\n\u001b[0m\u001b[1;32m      2\u001b[0m \u001b[0mhospitals\u001b[0m\u001b[0;34m.\u001b[0m\u001b[0mdrop\u001b[0m\u001b[0;34m(\u001b[0m\u001b[0mcolumns\u001b[0m\u001b[0;34m=\u001b[0m\u001b[0;34m[\u001b[0m\u001b[0;34m'SL NO'\u001b[0m\u001b[0;34m]\u001b[0m\u001b[0;34m,\u001b[0m\u001b[0maxis\u001b[0m\u001b[0;34m=\u001b[0m\u001b[0;36m1\u001b[0m\u001b[0;34m,\u001b[0m\u001b[0minplace\u001b[0m\u001b[0;34m=\u001b[0m\u001b[0;32mTrue\u001b[0m\u001b[0;34m)\u001b[0m\u001b[0;34m\u001b[0m\u001b[0;34m\u001b[0m\u001b[0m\n\u001b[1;32m      3\u001b[0m \u001b[0mhospitals\u001b[0m\u001b[0;34m.\u001b[0m\u001b[0mhead\u001b[0m\u001b[0;34m(\u001b[0m\u001b[0mn\u001b[0m \u001b[0;34m=\u001b[0m \u001b[0;36m4\u001b[0m\u001b[0;34m)\u001b[0m\u001b[0;34m\u001b[0m\u001b[0;34m\u001b[0m\u001b[0m\n\u001b[1;32m      4\u001b[0m \u001b[0mcol\u001b[0m \u001b[0;34m=\u001b[0m \u001b[0mlist\u001b[0m\u001b[0;34m(\u001b[0m\u001b[0mhospitals\u001b[0m\u001b[0;34m.\u001b[0m\u001b[0mcolumns\u001b[0m\u001b[0;34m)\u001b[0m\u001b[0;34m\u001b[0m\u001b[0;34m\u001b[0m\u001b[0m\n\u001b[1;32m      5\u001b[0m \u001b[0mprint\u001b[0m\u001b[0;34m(\u001b[0m\u001b[0mcol\u001b[0m\u001b[0;34m)\u001b[0m\u001b[0;34m\u001b[0m\u001b[0;34m\u001b[0m\u001b[0m\n",
      "\u001b[0;31mNameError\u001b[0m: name 'pd' is not defined"
     ]
    }
   ],
   "source": [
    "hospitals = pd.read_excel('./drive/My Drive/HospitalData.xls')\n",
    "hospitals.drop(columns=['SL NO'],axis=1,inplace=True)\n",
    "hospitals.head(n = 4)\n",
    "col = list(hospitals.columns)\n",
    "print(col)"
   ]
  },
  {
   "cell_type": "code",
   "execution_count": 4,
   "metadata": {},
   "outputs": [],
   "source": [
    "sentence_dict = dict()\n",
    "sentence_dict['HOSPITAL NAME'] = ['अस्पताल का नाम $NAME है| ']\n",
    "sentence_dict['state_city'] = ['यह अस्पताल $STATE राज्य के $CITY नगर में स्थित है। ', '$STATE राज्य के अंतर्गत आने वाले कई अस्पतालों में से यह एक है। यह अस्पताल $CITY नगर में स्थित है।']\n",
    "sentence_dict['ZONE'] = ['यह अस्पताल $ZONE जोन के अंतर्गत आता है। ','यह अस्पताल $ZONE जोन में आने वाले प्रसिद्ध अस्पतालों में से एक है। ', '$ZONE जोन में आने वाले कई नामी अस्पतालों में इसकी गिनती की जाती है। ']\n",
    "sentence_dict['CATEGORY'] = ['यह एक $CATEGORY का अस्पताल है। ', 'यह $CATEGORY में आने वाले कई नामी अस्पतालों में से एक है। ', 'यह अस्पताल $CATEGORY  के लिए मशहूर है। ']\n",
    "sentence_dict['Hospital ID'] = ['इस अस्पताल का क्रमांक $HOSPITALID है। ']\n",
    "sentence_dict['ADDRESS'] = ['इसका पता है : $ADDRESS । ', 'यह $ADDRESS में स्थित है। ']\n",
    "sentence_dict['PINCODE'] = ['इसका पिन कोड है : $PINCODE । ']\n",
    "sentence_dict['PHONE 1'] = ['इसका फ़ोन नंबर है : $PHONE । ', 'इस अस्पताल से संपर्क करने के लिए $PHONE फ़ोन नंबर का प्रयोग करें। ', 'इस अस्पताल की सभी सुविधाओं के बारे में जानकारी प्राप्त करने क लिए $PHONE को डायल करें। ']\n",
    "\n",
    "should_translate = [1, 1, 1, 1, 1, 0, 1, 0, 0]"
   ]
  },
  {
   "cell_type": "code",
   "execution_count": 5,
   "metadata": {},
   "outputs": [],
   "source": [
    "'''\n",
    "Replace $ with the given word\n",
    "'''\n",
    "def completed_sentence(sentence, substitute):\n",
    "    words = sentence.split()\n",
    "    new_words = []\n",
    "    for word in words:\n",
    "        if word[0] == '$':\n",
    "            new_words.append(str(substitute))\n",
    "        else:\n",
    "            new_words.append(str(word))\n",
    "    return ' '.join(new_words)\n",
    "'''\n",
    "current_row is a dictionary with keys from the data frame\n",
    "'''\n",
    "def create_article(current_row):\n",
    "    article = \"\"\n",
    "    state = \"\"\n",
    "    city = \"\"\n",
    "    trans = 0\n",
    "    for key in current_row.keys():\n",
    "        print(key)\n",
    "        if should_translate[trans] == 1:\n",
    "            translated = translator.translate(str(current_row[key]), src='en', dest='hi')\n",
    "            current_row[key] = translated.text\n",
    "        trans += 1\n",
    "        if key == 'STATE':\n",
    "            state = current_row[key]\n",
    "        elif key == 'CITY':\n",
    "            city = current_row[key]\n",
    "        else:\n",
    "            ind = random.randint(0, len(sentence_dict[key]) - 1)\n",
    "            article += completed_sentence(sentence_dict[key][ind], current_row[key])\n",
    "    \n",
    "    ind = random.randint(0, len(sentence_dict['state_city']) - 1)\n",
    "    words = sentence_dict['state_city'][ind]\n",
    "    words = words.split()\n",
    "    new_words = []\n",
    "    first = False\n",
    "    for word in words:\n",
    "        if word[0] == '$':\n",
    "            if not first:\n",
    "                new_words.append(state)\n",
    "                first = True\n",
    "            else:\n",
    "                new_words.append(city)\n",
    "        else:\n",
    "            new_words.append(word)\n",
    "    article += ' '.join(new_words)\n",
    "    return article"
   ]
  },
  {
   "cell_type": "code",
   "execution_count": 6,
   "metadata": {},
   "outputs": [
    {
     "ename": "NameError",
     "evalue": "name 'hospitals' is not defined",
     "output_type": "error",
     "traceback": [
      "\u001b[0;31m---------------------------------------------------------------------------\u001b[0m",
      "\u001b[0;31mNameError\u001b[0m                                 Traceback (most recent call last)",
      "\u001b[0;32m<ipython-input-6-67458d100c1f>\u001b[0m in \u001b[0;36m<module>\u001b[0;34m\u001b[0m\n\u001b[0;32m----> 1\u001b[0;31m \u001b[0mprint\u001b[0m\u001b[0;34m(\u001b[0m\u001b[0mhospitals\u001b[0m\u001b[0;34m.\u001b[0m\u001b[0mshape\u001b[0m\u001b[0;34m)\u001b[0m\u001b[0;34m\u001b[0m\u001b[0;34m\u001b[0m\u001b[0m\n\u001b[0m\u001b[1;32m      2\u001b[0m \u001b[0mhospitals\u001b[0m\u001b[0;34m.\u001b[0m\u001b[0minfo\u001b[0m\u001b[0;34m(\u001b[0m\u001b[0;34m)\u001b[0m\u001b[0;34m\u001b[0m\u001b[0;34m\u001b[0m\u001b[0m\n\u001b[1;32m      3\u001b[0m \u001b[0mpd\u001b[0m\u001b[0;34m.\u001b[0m\u001b[0mset_option\u001b[0m\u001b[0;34m(\u001b[0m\u001b[0;34m'display.max_columns'\u001b[0m\u001b[0;34m,\u001b[0m \u001b[0;36m50\u001b[0m\u001b[0;34m)\u001b[0m\u001b[0;34m\u001b[0m\u001b[0;34m\u001b[0m\u001b[0m\n",
      "\u001b[0;31mNameError\u001b[0m: name 'hospitals' is not defined"
     ]
    }
   ],
   "source": [
    "print(hospitals.shape)\n",
    "hospitals.info()\n",
    "pd.set_option('display.max_columns', 50)"
   ]
  },
  {
   "cell_type": "code",
   "execution_count": null,
   "metadata": {},
   "outputs": [],
   "source": [
    "hospitals[:][:4]"
   ]
  },
  {
   "cell_type": "code",
   "execution_count": 7,
   "metadata": {},
   "outputs": [
    {
     "ename": "NameError",
     "evalue": "name 'col' is not defined",
     "output_type": "error",
     "traceback": [
      "\u001b[0;31m---------------------------------------------------------------------------\u001b[0m",
      "\u001b[0;31mNameError\u001b[0m                                 Traceback (most recent call last)",
      "\u001b[0;32m<ipython-input-7-e5d575f68911>\u001b[0m in \u001b[0;36m<module>\u001b[0;34m\u001b[0m\n\u001b[1;32m     25\u001b[0m \u001b[0;32mfor\u001b[0m \u001b[0mi\u001b[0m \u001b[0;32min\u001b[0m \u001b[0mrange\u001b[0m\u001b[0;34m(\u001b[0m\u001b[0;36m4\u001b[0m\u001b[0;34m)\u001b[0m\u001b[0;34m:\u001b[0m\u001b[0;34m\u001b[0m\u001b[0;34m\u001b[0m\u001b[0m\n\u001b[1;32m     26\u001b[0m     \u001b[0mcurrent_row\u001b[0m \u001b[0;34m=\u001b[0m \u001b[0mdict\u001b[0m\u001b[0;34m(\u001b[0m\u001b[0;34m)\u001b[0m\u001b[0;34m\u001b[0m\u001b[0;34m\u001b[0m\u001b[0m\n\u001b[0;32m---> 27\u001b[0;31m     \u001b[0;32mfor\u001b[0m \u001b[0mk\u001b[0m \u001b[0;32min\u001b[0m \u001b[0mcol\u001b[0m\u001b[0;34m:\u001b[0m\u001b[0;34m\u001b[0m\u001b[0;34m\u001b[0m\u001b[0m\n\u001b[0m\u001b[1;32m     28\u001b[0m         \u001b[0mcurrent_row\u001b[0m\u001b[0;34m[\u001b[0m\u001b[0mk\u001b[0m\u001b[0;34m]\u001b[0m \u001b[0;34m=\u001b[0m \u001b[0mprocess\u001b[0m\u001b[0;34m(\u001b[0m\u001b[0mstr\u001b[0m\u001b[0;34m(\u001b[0m\u001b[0mhospitals\u001b[0m\u001b[0;34m[\u001b[0m\u001b[0mk\u001b[0m\u001b[0;34m]\u001b[0m\u001b[0;34m[\u001b[0m\u001b[0mi\u001b[0m\u001b[0;34m]\u001b[0m\u001b[0;34m)\u001b[0m\u001b[0;34m)\u001b[0m\u001b[0;34m\u001b[0m\u001b[0;34m\u001b[0m\u001b[0m\n\u001b[1;32m     29\u001b[0m     \u001b[0marticle\u001b[0m \u001b[0;34m=\u001b[0m \u001b[0mcreate_article\u001b[0m\u001b[0;34m(\u001b[0m\u001b[0mcurrent_row\u001b[0m\u001b[0;34m)\u001b[0m\u001b[0;34m\u001b[0m\u001b[0;34m\u001b[0m\u001b[0m\n",
      "\u001b[0;31mNameError\u001b[0m: name 'col' is not defined"
     ]
    }
   ],
   "source": [
    "position = dict()\n",
    "position['1st'] = 'first'\n",
    "position['2nd'] = 'second'\n",
    "position['3rd'] = 'third'\n",
    "position['4th'] = 'fourth'\n",
    "position['6th'] = 'sixth'\n",
    "position['7th'] = 'seventh'\n",
    "position['8th'] = 'eighth'\n",
    "position['9th'] = 'ninth'\n",
    "'''\n",
    "process for better translation\n",
    "'''\n",
    "def process(data):\n",
    "    data = data.split()\n",
    "    new_data = []\n",
    "    for d in data:\n",
    "        d = str(d)\n",
    "        d = d.lower()\n",
    "        if d in position:\n",
    "            new_data.append(position[d])\n",
    "        else:\n",
    "            new_data.append(d)\n",
    "    return ' '.join(new_data)\n",
    "            \n",
    "for i in range(4):\n",
    "    current_row = dict()\n",
    "    for k in col:\n",
    "        current_row[k] = process(str(hospitals[k][i]))\n",
    "    article = create_article(current_row)\n",
    "    print(article)\n"
   ]
  },
  {
   "cell_type": "code",
   "execution_count": null,
   "metadata": {},
   "outputs": [],
   "source": []
  }
 ],
 "metadata": {
  "kernelspec": {
   "display_name": "Python 3",
   "language": "python",
   "name": "python3"
  },
  "language_info": {
   "codemirror_mode": {
    "name": "ipython",
    "version": 3
   },
   "file_extension": ".py",
   "mimetype": "text/x-python",
   "name": "python",
   "nbconvert_exporter": "python",
   "pygments_lexer": "ipython3",
   "version": "3.8.5"
  }
 },
 "nbformat": 4,
 "nbformat_minor": 4
}
