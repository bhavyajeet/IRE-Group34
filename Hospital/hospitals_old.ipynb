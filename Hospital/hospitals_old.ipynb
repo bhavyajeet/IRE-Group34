{
  "nbformat": 4,
  "nbformat_minor": 0,
  "metadata": {
    "colab": {
      "name": "hospitals.ipynb",
      "provenance": [],
      "collapsed_sections": [],
      "toc_visible": true
    },
    "kernelspec": {
      "name": "python3",
      "display_name": "Python 3"
    }
  },
  "cells": [
    {
      "cell_type": "code",
      "metadata": {
        "id": "z2kwDoDxZxpi",
        "outputId": "87cc3d3a-88f9-4afd-b5d3-ea0194949e07",
        "colab": {
          "base_uri": "https://localhost:8080/",
          "height": 871
        }
      },
      "source": [
        "import re\n",
        "import math\n",
        "import pickle\n",
        "import random\n",
        "import pandas as pd\n",
        "!pip install indic_transliteration\n",
        "!pip install googletrans\n",
        "\n",
        "from indic_transliteration import sanscript\n",
        "from indic_transliteration.sanscript import SchemeMap, SCHEMES, transliterate\n",
        "from googletrans import Translator"
      ],
      "execution_count": 1,
      "outputs": [
        {
          "output_type": "stream",
          "name": "stdout",
          "text": [
            "Defaulting to user installation because normal site-packages is not writeable\n",
            "Requirement already satisfied: indic_transliteration in /home/bhavyajeet/.local/lib/python3.6/site-packages (2.0.4)\n",
            "Requirement already satisfied: selenium==3.141.0 in /home/bhavyajeet/.local/lib/python3.6/site-packages (from indic_transliteration) (3.141.0)\n",
            "Requirement already satisfied: regex==2020.9.27 in /home/bhavyajeet/.local/lib/python3.6/site-packages (from indic_transliteration) (2020.9.27)\n",
            "Requirement already satisfied: backports.functools-lru-cache==1.6.1 in /home/bhavyajeet/.local/lib/python3.6/site-packages (from indic_transliteration) (1.6.1)\n",
            "Requirement already satisfied: urllib3 in /home/bhavyajeet/.local/lib/python3.6/site-packages (from selenium==3.141.0->indic_transliteration) (1.25.7)\n",
            "Defaulting to user installation because normal site-packages is not writeable\n",
            "Collecting googletrans\n",
            "  Downloading googletrans-3.0.0.tar.gz (17 kB)\n",
            "Collecting httpx==0.13.3\n",
            "  Downloading httpx-0.13.3-py3-none-any.whl (55 kB)\n",
            "\u001b[K     |████████████████████████████████| 55 kB 126 kB/s \n",
            "\u001b[?25hCollecting hstspreload\n",
            "  Downloading hstspreload-2020.10.20-py3-none-any.whl (972 kB)\n",
            "\u001b[K     |████████████████████████████████| 972 kB 3.5 MB/s \n",
            "\u001b[?25hCollecting sniffio\n",
            "  Downloading sniffio-1.2.0-py3-none-any.whl (10 kB)\n",
            "Collecting httpcore==0.9.*\n",
            "  Downloading httpcore-0.9.1-py3-none-any.whl (42 kB)\n",
            "\u001b[K     |████████████████████████████████| 42 kB 199 kB/s \n",
            "\u001b[?25hRequirement already satisfied: certifi in /home/bhavyajeet/.local/lib/python3.6/site-packages (from httpx==0.13.3->googletrans) (2019.11.28)\n",
            "Requirement already satisfied: idna==2.* in /home/bhavyajeet/.local/lib/python3.6/site-packages (from httpx==0.13.3->googletrans) (2.8)\n",
            "Requirement already satisfied: chardet==3.* in /home/bhavyajeet/.local/lib/python3.6/site-packages (from httpx==0.13.3->googletrans) (3.0.4)\n",
            "Collecting rfc3986<2,>=1.3\n",
            "  Downloading rfc3986-1.4.0-py2.py3-none-any.whl (31 kB)\n",
            "Collecting contextvars>=2.1; python_version < \"3.7\"\n",
            "  Downloading contextvars-2.4.tar.gz (9.6 kB)\n",
            "Collecting h11<0.10,>=0.8\n",
            "  Downloading h11-0.9.0-py2.py3-none-any.whl (53 kB)\n",
            "\u001b[K     |████████████████████████████████| 53 kB 132 kB/s \n",
            "\u001b[?25hCollecting h2==3.*\n",
            "  Downloading h2-3.2.0-py2.py3-none-any.whl (65 kB)\n",
            "\u001b[K     |████████████████████████████████| 65 kB 294 kB/s \n",
            "\u001b[?25hCollecting immutables>=0.9\n",
            "  Downloading immutables-0.14-cp36-cp36m-manylinux1_x86_64.whl (98 kB)\n",
            "\u001b[K     |████████████████████████████████| 98 kB 459 kB/s \n",
            "\u001b[?25hCollecting hpack<4,>=3.0\n",
            "  Downloading hpack-3.0.0-py2.py3-none-any.whl (38 kB)\n",
            "Collecting hyperframe<6,>=5.2.0\n",
            "  Downloading hyperframe-5.2.0-py2.py3-none-any.whl (12 kB)\n",
            "Building wheels for collected packages: googletrans, contextvars\n",
            "  Building wheel for googletrans (setup.py) ... \u001b[?25ldone\n",
            "\u001b[?25h  Created wheel for googletrans: filename=googletrans-3.0.0-py3-none-any.whl size=15737 sha256=5ab6e4973c5fecdaf7257d8c7f1bdbae4d693c63efedf36463ad01258cf85c12\n",
            "  Stored in directory: /home/bhavyajeet/.cache/pip/wheels/06/a1/90/75375ea9aff253a4803b2356007f64aecb6ce2f1e46a0aa9ba\n",
            "  Building wheel for contextvars (setup.py) ... \u001b[?25ldone\n",
            "\u001b[?25h  Created wheel for contextvars: filename=contextvars-2.4-py3-none-any.whl size=7665 sha256=a41e7966b4c2f68b8764e37298fb69daf03e71898e23105d3cc1c69f28322c37\n",
            "  Stored in directory: /home/bhavyajeet/.cache/pip/wheels/41/11/53/911724983aa48deb94792432e14e518447212dd6c5477d49d3\n",
            "Successfully built googletrans contextvars\n",
            "Installing collected packages: hstspreload, immutables, contextvars, sniffio, h11, hpack, hyperframe, h2, httpcore, rfc3986, httpx, googletrans\n",
            "Successfully installed contextvars-2.4 googletrans-3.0.0 h11-0.9.0 h2-3.2.0 hpack-3.0.0 hstspreload-2020.10.20 httpcore-0.9.1 httpx-0.13.3 hyperframe-5.2.0 immutables-0.14 rfc3986-1.4.0 sniffio-1.2.0\n"
          ]
        }
      ]
    },
    {
      "cell_type": "code",
      "metadata": {
        "id": "vAePQ8t5lTAC",
        "outputId": "7abf4a13-40dc-4cb8-d65e-518ebc2d74ec",
        "colab": {
          "base_uri": "https://localhost:8080/",
          "height": 34
        }
      },
      "source": [
        "from google.colab import drive\n",
        "drive.mount('/content/drive')"
      ],
      "execution_count": 2,
      "outputs": [
        {
          "output_type": "error",
          "ename": "ModuleNotFoundError",
          "evalue": "No module named 'google.colab'",
          "traceback": [
            "\u001b[0;31m---------------------------------------------------------------------------\u001b[0m",
            "\u001b[0;31mModuleNotFoundError\u001b[0m                       Traceback (most recent call last)",
            "\u001b[0;32m<ipython-input-2-d5df0069828e>\u001b[0m in \u001b[0;36m<module>\u001b[0;34m\u001b[0m\n\u001b[0;32m----> 1\u001b[0;31m \u001b[0;32mfrom\u001b[0m \u001b[0mgoogle\u001b[0m\u001b[0;34m.\u001b[0m\u001b[0mcolab\u001b[0m \u001b[0;32mimport\u001b[0m \u001b[0mdrive\u001b[0m\u001b[0;34m\u001b[0m\u001b[0;34m\u001b[0m\u001b[0m\n\u001b[0m\u001b[1;32m      2\u001b[0m \u001b[0mdrive\u001b[0m\u001b[0;34m.\u001b[0m\u001b[0mmount\u001b[0m\u001b[0;34m(\u001b[0m\u001b[0;34m'/content/drive'\u001b[0m\u001b[0;34m)\u001b[0m\u001b[0;34m\u001b[0m\u001b[0;34m\u001b[0m\u001b[0m\n",
            "\u001b[0;31mModuleNotFoundError\u001b[0m: No module named 'google.colab'"
          ]
        }
      ]
    },
    {
      "cell_type": "code",
      "metadata": {
        "id": "kUSUJmjTaYxE"
      },
      "source": [
        "# Data List\n",
        "nums = [0,1,2,3,4,5,6,7,8,9,10,11,12,13,14,15,16,17,18,19,20,30,40,50,60,70,80,90,100]\n",
        "hindiN = ['शून्य','एक','दो','तीन','चार','पांच','छह','सात ','आठ','नौ','दस','ग्यारह','बारह','तेरह','चौदह','पन्द्रह','सोलह','सत्रह','अठारह','उन्नीस','बीस','तीस','चालीस','पचास','साठ','सत्तर','अस्सी','नब्बे','एक सौ']\n",
        "\n",
        "letters = ['a','b','c','d','e','f','g','h','i','j','k','l','m','n','o','p','q','r','s','t','u','v','w','x','y','z']\n",
        "hindiL = ['ए', 'बी', 'सी', 'डी', 'ई', 'एफ', 'जी', 'एच', 'आई', 'जे', 'के', 'एल', 'एम','एन', 'ओ', 'पी', 'क्यू', 'आर', 'एस', 'टी', 'यू','वी', 'डब्ल्यू', 'एक्स', 'वाई', 'जेड']\n",
        "\n",
        "hindi_letters ={letters[i]:hindiL[i] for i in range(len(letters))} \n",
        "hindi_nums = {nums[i]:hindiN[i] for i in range(len(nums))}\n"
      ],
      "execution_count": 3,
      "outputs": []
    },
    {
      "cell_type": "markdown",
      "metadata": {
        "id": "kq2JsObMeqKg"
      },
      "source": [
        "# Transliteration is BAD\n",
        "\n",
        "Look at how badly it transliterates"
      ]
    },
    {
      "cell_type": "code",
      "metadata": {
        "id": "RgI0bm3fdCTb",
        "outputId": "6ff6b193-de10-4833-9bf8-4fe60e72e0c8",
        "colab": {
          "base_uri": "https://localhost:8080/",
          "height": 156
        }
      },
      "source": [
        "translator = Translator()\n",
        "data = ['Tamil Nadu', 'Maharashtra', 'Trivandrum', 'Salem', 'Trichy', 'Coimbatore', 'Pondicherry']\n",
        "for place in data:\n",
        "    text = translator.translate(place, src='en', dest='hi')\n",
        "    print(text.text, end='  ')\n",
        "    print(transliterate(place, sanscript.ITRANS, sanscript.DEVANAGARI))\n",
        "\n",
        "# So we need to process the text before conversion as it is difficult to convert directly\n",
        "print(translator.translate('104,2ND AGRAHARAM,NEAR OLD BUS STAND', src='en', dest='hi').text)"
      ],
      "execution_count": 4,
      "outputs": [
        {
          "output_type": "stream",
          "name": "stdout",
          "text": [
            "तमिलनाडु  टमिल् णदु\n",
            "महाराष्ट्र  ंअहरश्त्र\n",
            "त्रिवेंद्रम  ट्रिवन्द्रुम्\n",
            "सलेम  Sअलेम्\n",
            "त्रिची  ट्रिच्य्\n",
            "कोयंबटूर  Cओइम्बतोरे\n",
            "पांडिचेरी  Pओन्दिचेर्र्य्\n",
            "104,2ND AGRAHARAM, NEAR OLD BUS STAND\n"
          ]
        }
      ]
    },
    {
      "cell_type": "markdown",
      "metadata": {
        "id": "YAx1P2_Ikyjr"
      },
      "source": [
        "# Play with data"
      ]
    },
    {
      "cell_type": "code",
      "metadata": {
        "id": "GpWvbvRidp2y",
        "outputId": "a91321db-0bdb-4ea9-9e4a-c794a5faeee6",
        "colab": {
          "base_uri": "https://localhost:8080/",
          "height": 34
        }
      },
      "source": [
        "hospitals = pd.read_excel('./HospitalData.xls')\n",
        "hospitals.drop(columns=['SL NO'],axis=1,inplace=True)\n",
        "hospitals.head(n = 4)\n",
        "col = list(hospitals.columns)\n",
        "print(col)"
      ],
      "execution_count": 6,
      "outputs": [
        {
          "output_type": "stream",
          "name": "stdout",
          "text": [
            "['ZONE', 'STATE', 'CITY', 'CATEGORY', 'HOSPITAL NAME', 'Hospital ID', 'ADDRESS', 'PINCODE', 'PHONE 1']\n"
          ]
        }
      ]
    },
    {
      "cell_type": "markdown",
      "metadata": {
        "id": "csPEEXjPoK5y"
      },
      "source": [
        "1. Create a Dictionary which maps columns of Dataframe to available sentences we have in HINDI.\n",
        "\n",
        "2. Take Data from each row and translate its meaning.\n",
        "\n",
        "3. Use this translated meaning to create a paragraph(wiki Article)."
      ]
    },
    {
      "cell_type": "markdown",
      "metadata": {
        "id": "tI0cUNpXqbTR"
      },
      "source": [
        "# Dictionary creation\n",
        "\n",
        "Sentences are picked from the doc"
      ]
    },
    {
      "cell_type": "code",
      "metadata": {
        "id": "ANIQW7yZqaKM"
      },
      "source": [
        "sentence_dict = dict()\n",
        "sentence_dict['HOSPITAL NAME'] = ['अस्पताल का नाम $NAME है| ']\n",
        "sentence_dict['state_city'] = ['यह अस्पताल $STATE राज्य के $CITY नगर में स्थित है। ', '$STATE राज्य के अंतर्गत आने वाले कई अस्पतालों में से यह एक है। यह अस्पताल $CITY नगर में स्थित है।']\n",
        "sentence_dict['ZONE'] = ['यह अस्पताल $ZONE जोन के अंतर्गत आता है। ','यह अस्पताल $ZONE जोन में आने वाले प्रसिद्ध अस्पतालों में से एक है। ', '$ZONE जोन में आने वाले कई नामी अस्पतालों में इसकी गिनती की जाती है। ']\n",
        "sentence_dict['CATEGORY'] = ['यह एक $CATEGORY का अस्पताल है। ', 'यह $CATEGORY में आने वाले कई नामी अस्पतालों में से एक है। ', 'यह अस्पताल $CATEGORY  के लिए मशहूर है। ']\n",
        "sentence_dict['Hospital ID'] = ['इस अस्पताल का क्रमांक $HOSPITALID है। ']\n",
        "sentence_dict['ADDRESS'] = ['इसका पता है : $ADDRESS । ', 'यह $ADDRESS में स्थित है। ']\n",
        "sentence_dict['PINCODE'] = ['इसका पिन कोड है : $PINCODE । ']\n",
        "sentence_dict['PHONE 1'] = ['इसका फ़ोन नंबर है : $PHONE । ', 'इस अस्पताल से संपर्क करने के लिए $PHONE फ़ोन नंबर का प्रयोग करें। ', 'इस अस्पताल की सभी सुविधाओं के बारे में जानकारी प्राप्त करने क लिए $PHONE को डायल करें। ']\n",
        "\n",
        "should_translate = [1, 1, 1, 1, 1, 0, 1, 0, 0]"
      ],
      "execution_count": 7,
      "outputs": []
    },
    {
      "cell_type": "code",
      "metadata": {
        "id": "_hRb5nAll-dU"
      },
      "source": [
        "'''\n",
        "Replace $ with the given word\n",
        "'''\n",
        "def completed_sentence(sentence, substitute):\n",
        "    words = sentence.split()\n",
        "    new_words = []\n",
        "    for word in words:\n",
        "        if word[0] == '$':\n",
        "            new_words.append(str(substitute))\n",
        "        else:\n",
        "            new_words.append(str(word))\n",
        "    return ' '.join(new_words)\n",
        "'''\n",
        "current_row is a dictionary with keys from the data frame\n",
        "'''\n",
        "def create_article(current_row):\n",
        "    article = \"\"\n",
        "    state = \"\"\n",
        "    city = \"\"\n",
        "    trans = 0\n",
        "    for key in current_row.keys():\n",
        "        if should_translate[trans] == 1:\n",
        "            translated = translator.translate(str(current_row[key]), src='en', dest='hi')\n",
        "            current_row[key] = translated.text\n",
        "        trans += 1\n",
        "        if key == 'STATE':\n",
        "            state = current_row[key]\n",
        "        elif key == 'CITY':\n",
        "            city = current_row[key]\n",
        "        else:\n",
        "            ind = random.randint(0, len(sentence_dict[key]) - 1)\n",
        "            article += completed_sentence(sentence_dict[key][ind], current_row[key])\n",
        "    \n",
        "    ind = random.randint(0, len(sentence_dict['state_city']) - 1)\n",
        "    words = sentence_dict['state_city'][ind]\n",
        "    words = words.split()\n",
        "    new_words = []\n",
        "    first = False\n",
        "    for word in words:\n",
        "        if word[0] == '$':\n",
        "            if not first:\n",
        "                new_words.append(state)\n",
        "                first = True\n",
        "            else:\n",
        "                new_words.append(city)\n",
        "        else:\n",
        "            new_words.append(word)\n",
        "    article += ' '.join(new_words)\n",
        "    return article"
      ],
      "execution_count": 11,
      "outputs": []
    },
    {
      "cell_type": "code",
      "metadata": {
        "id": "W8G5p2f_1OXf",
        "outputId": "5447909c-a8d4-423e-e6c7-985e8524dfcf",
        "colab": {
          "base_uri": "https://localhost:8080/",
          "height": 312
        }
      },
      "source": [
        "print(hospitals.shape)\n",
        "hospitals.info()\n",
        "pd.set_option('display.max_columns', 50)"
      ],
      "execution_count": 8,
      "outputs": [
        {
          "output_type": "stream",
          "name": "stdout",
          "text": [
            "(5483, 9)\n<class 'pandas.core.frame.DataFrame'>\nRangeIndex: 5483 entries, 0 to 5482\nData columns (total 9 columns):\n #   Column         Non-Null Count  Dtype \n---  ------         --------------  ----- \n 0   ZONE           5483 non-null   object\n 1   STATE          5483 non-null   object\n 2   CITY           5483 non-null   object\n 3   CATEGORY       5483 non-null   object\n 4   HOSPITAL NAME  5483 non-null   object\n 5   Hospital ID    5483 non-null   object\n 6   ADDRESS        5483 non-null   object\n 7   PINCODE        5483 non-null   object\n 8   PHONE 1        5480 non-null   object\ndtypes: object(9)\nmemory usage: 385.6+ KB\n"
          ]
        }
      ]
    },
    {
      "cell_type": "code",
      "metadata": {
        "id": "GUAb2kZ-P1zd",
        "outputId": "f264f73f-e539-42e3-b184-de694ae094b7",
        "colab": {
          "base_uri": "https://localhost:8080/",
          "height": 175
        }
      },
      "source": [
        "hospitals[:][:4]"
      ],
      "execution_count": 9,
      "outputs": [
        {
          "output_type": "execute_result",
          "data": {
            "text/plain": [
              "    ZONE      STATE         CITY          CATEGORY  \\\n",
              "0  SOUTH  TAMILNADU        SALEM  GENERAL HOSPITAL   \n",
              "1  SOUTH  TAMILNADU   COIMBATORE  GENERAL HOSPITAL   \n",
              "2  SOUTH  TAMILNADU  PONDICHERRY  GENERAL HOSPITAL   \n",
              "3  SOUTH     KERALA   TRIVANDRUM  GENERAL HOSPITAL   \n",
              "\n",
              "                   HOSPITAL NAME   Hospital ID  \\\n",
              "0                   A.C.HOSPITAL  HOS-CHE-1150   \n",
              "1                   A.G.HOSPITAL  HOS-COM-2275   \n",
              "2  A.G.PADMAVATHI'S HOSPITAL LTD   HOS-CHE-470   \n",
              "3                   A.J.HOSPITAL  HOS-KOC-2595   \n",
              "\n",
              "                                   ADDRESS PINCODE                 PHONE 1  \n",
              "0     104,2ND AGRAHARAM,NEAR OLD BUS STAND  636001   (0427)2260577/2267957  \n",
              "1               34, KPN COLONY 3RD STREET,  641601            0421-2202444  \n",
              "2  #12 VICTORIYA NAGAR,ELLAIPILLAI CHAVADY  605005  (0413) 2204620/2204621  \n",
              "3                              KAZHAKUTTOM  695582            0471-2418452  "
            ],
            "text/html": "<div>\n<style scoped>\n    .dataframe tbody tr th:only-of-type {\n        vertical-align: middle;\n    }\n\n    .dataframe tbody tr th {\n        vertical-align: top;\n    }\n\n    .dataframe thead th {\n        text-align: right;\n    }\n</style>\n<table border=\"1\" class=\"dataframe\">\n  <thead>\n    <tr style=\"text-align: right;\">\n      <th></th>\n      <th>ZONE</th>\n      <th>STATE</th>\n      <th>CITY</th>\n      <th>CATEGORY</th>\n      <th>HOSPITAL NAME</th>\n      <th>Hospital ID</th>\n      <th>ADDRESS</th>\n      <th>PINCODE</th>\n      <th>PHONE 1</th>\n    </tr>\n  </thead>\n  <tbody>\n    <tr>\n      <th>0</th>\n      <td>SOUTH</td>\n      <td>TAMILNADU</td>\n      <td>SALEM</td>\n      <td>GENERAL HOSPITAL</td>\n      <td>A.C.HOSPITAL</td>\n      <td>HOS-CHE-1150</td>\n      <td>104,2ND AGRAHARAM,NEAR OLD BUS STAND</td>\n      <td>636001</td>\n      <td>(0427)2260577/2267957</td>\n    </tr>\n    <tr>\n      <th>1</th>\n      <td>SOUTH</td>\n      <td>TAMILNADU</td>\n      <td>COIMBATORE</td>\n      <td>GENERAL HOSPITAL</td>\n      <td>A.G.HOSPITAL</td>\n      <td>HOS-COM-2275</td>\n      <td>34, KPN COLONY 3RD STREET,</td>\n      <td>641601</td>\n      <td>0421-2202444</td>\n    </tr>\n    <tr>\n      <th>2</th>\n      <td>SOUTH</td>\n      <td>TAMILNADU</td>\n      <td>PONDICHERRY</td>\n      <td>GENERAL HOSPITAL</td>\n      <td>A.G.PADMAVATHI'S HOSPITAL LTD</td>\n      <td>HOS-CHE-470</td>\n      <td>#12 VICTORIYA NAGAR,ELLAIPILLAI CHAVADY</td>\n      <td>605005</td>\n      <td>(0413) 2204620/2204621</td>\n    </tr>\n    <tr>\n      <th>3</th>\n      <td>SOUTH</td>\n      <td>KERALA</td>\n      <td>TRIVANDRUM</td>\n      <td>GENERAL HOSPITAL</td>\n      <td>A.J.HOSPITAL</td>\n      <td>HOS-KOC-2595</td>\n      <td>KAZHAKUTTOM</td>\n      <td>695582</td>\n      <td>0471-2418452</td>\n    </tr>\n  </tbody>\n</table>\n</div>"
          },
          "metadata": {},
          "execution_count": 9
        }
      ]
    },
    {
      "cell_type": "code",
      "metadata": {
        "id": "Vm_bwdJQwuwb",
        "outputId": "40594bbb-7123-42ae-bff7-3ff1bd884c85",
        "colab": {
          "base_uri": "https://localhost:8080/",
          "height": 106
        }
      },
      "source": [
        "position = dict()\n",
        "position['1st'] = 'first'\n",
        "position['2nd'] = 'second'\n",
        "position['3rd'] = 'third'\n",
        "position['4th'] = 'fourth'\n",
        "position['6th'] = 'sixth'\n",
        "position['7th'] = 'seventh'\n",
        "position['8th'] = 'eighth'\n",
        "position['9th'] = 'ninth'\n",
        "'''\n",
        "process for better translation\n",
        "'''\n",
        "def process(data):\n",
        "    data = data.split()\n",
        "    new_data = []\n",
        "    for d in data:\n",
        "        d = str(d)\n",
        "        d = d.lower()\n",
        "        if d in position:\n",
        "            new_data.append(position[d])\n",
        "        else:\n",
        "            new_data.append(d)\n",
        "    return ' '.join(new_data)\n",
        "            \n",
        "for i in range(4):\n",
        "    current_row = dict()\n",
        "    for k in col:\n",
        "        current_row[k] = process(str(hospitals[k][i]))\n",
        "    article = create_article(current_row)\n",
        "    print(article)\n"
      ],
      "execution_count": 12,
      "outputs": [
        {
          "output_type": "stream",
          "name": "stdout",
          "text": [
            "दक्षिण जोन में आने वाले कई नामी अस्पतालों में इसकी गिनती की जाती है।यह अस्पताल सामान्य अस्पताल के लिए मशहूर है।अस्पताल का नाम a.c.hospital है|इस अस्पताल का क्रमांक hos-che-1150 है।इसका पता है : पुराना बस स्टैंड के पास 104,2, अग्रहारम ।इसका पिन कोड है : 636001 ।इस अस्पताल की सभी सुविधाओं के बारे में जानकारी प्राप्त करने क लिए (0427)2260577/2267957 को डायल करें।यह अस्पताल तमिलनाडु राज्य के सलेम नगर में स्थित है।\n",
            "दक्षिण जोन में आने वाले कई नामी अस्पतालों में इसकी गिनती की जाती है।यह सामान्य अस्पताल में आने वाले कई नामी अस्पतालों में से एक है।अस्पताल का नाम a.g.hospital है|इस अस्पताल का क्रमांक hos-com-2275 है।इसका पता है : 34, kpn कॉलोनी तीसरी गली, ।इसका पिन कोड है : 641601 ।इस अस्पताल से संपर्क करने के लिए 0421-2202444 फ़ोन नंबर का प्रयोग करें।यह अस्पताल तमिलनाडु राज्य के कोयंबटूर नगर में स्थित है।\n",
            "यह अस्पताल दक्षिण जोन के अंतर्गत आता है।यह सामान्य अस्पताल में आने वाले कई नामी अस्पतालों में से एक है।अस्पताल का नाम a.g.padmavathi's अस्पताल लि है|इस अस्पताल का क्रमांक hos-che-470 है।यह # 12 विजोरिया नगर, एलालिपिलई चावड़ी में स्थित है।इसका पिन कोड है : 605005 ।इसका फ़ोन नंबर है : (0413) 2204620/2204621 ।यह अस्पताल तमिलनाडु राज्य के पांडिचेरी नगर में स्थित है।\n",
            "दक्षिण जोन में आने वाले कई नामी अस्पतालों में इसकी गिनती की जाती है।यह अस्पताल सामान्य अस्पताल के लिए मशहूर है।अस्पताल का नाम a.j.hospital है|इस अस्पताल का क्रमांक hos-koc-2595 है।यह kazhakuttom में स्थित है।इसका पिन कोड है : 695582 ।इसका फ़ोन नंबर है : 0471-2418452 ।केरल राज्य के अंतर्गत आने वाले कई अस्पतालों में से यह एक है। यह अस्पताल त्रिवेंद्रम नगर में स्थित है।\n"
          ]
        }
      ]
    },
    {
      "cell_type": "code",
      "metadata": {
        "id": "NKJBjyelVetF"
      },
      "source": [
        ""
      ],
      "execution_count": null,
      "outputs": []
    }
  ]
}