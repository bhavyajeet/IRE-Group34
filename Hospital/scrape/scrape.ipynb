{
 "cells": [
  {
   "cell_type": "code",
   "execution_count": 1,
   "metadata": {},
   "outputs": [],
   "source": [
    "import requests\n",
    "from bs4 import BeautifulSoup\n"
   ]
  },
  {
   "cell_type": "code",
   "execution_count": 21,
   "metadata": {},
   "outputs": [],
   "source": [
    "state_list=[\"Andaman-And-Nicobar-Islands\",\n",
    "\"Andhra-Pradesh\",\n",
    "\"Arunachal-Pradesh\", \n",
    "\"Assam\",\n",
    "\"Bihar\",\n",
    "\"Chandigarh\",\n",
    "\"Chhattisgarh\",\n",
    "\"Dadra-And-Nagar\", \n",
    "\"Daman-And-Diu\",\n",
    "\"Delhi\",\n",
    "\"Goa\",\n",
    "\"Gujarat\", \n",
    "\"Haryana\",\n",
    "\"Himachal-Pradesh\", \n",
    "\"Jammu-And-Kashmir\",\n",
    "\"Jharkhand\",\n",
    "\"Karnataka\",\n",
    "\"Kerala\",\n",
    "\"Lakshadweep\", \n",
    "\"Madhya-Pradesh\", \n",
    "\"Maharashtra\", \n",
    "\"Manipur\",\n",
    "\"Meghalaya\",\n",
    "\"Mizoram\", \n",
    "\"Nagaland\",\n",
    "\"Odisha\",\n",
    "\"Puducherry\",\n",
    "\"Punjab\",\n",
    "\"Rajasthan\", \n",
    "\"Sikkim\", \n",
    "\"Tamil-Nadu\", \n",
    "\"Tripura\", \n",
    "\"Uttar-Pradesh\", \n",
    "\"Uttarakhand\", \n",
    "\"West-Bengal\"]"
   ]
  },
  {
   "cell_type": "code",
   "execution_count": 64,
   "metadata": {},
   "outputs": [
    {
     "name": "stdout",
     "output_type": "stream",
     "text": [
      "https://pin-code.org.in/hospitals/listing/andaman-and-nicobar-islands\n",
      "\n",
      "South Andaman\n",
      "\n",
      "https://pin-code.org.in/hospitals/listing/andhra-pradesh\n",
      "\n",
      "Godavari\n",
      "Hyderabad\n",
      "Krishna\n",
      "Secunderabad\n",
      "Visakhapatnam\n",
      "\n",
      "https://pin-code.org.in/hospitals/listing/arunachal-pradesh\n",
      "\n",
      "Lower Subansiri\n",
      "Tawang\n",
      "Upper Subansiri\n",
      "\n",
      "https://pin-code.org.in/hospitals/listing/assam\n",
      "\n",
      "Barpeta\n",
      "Cachar\n",
      "Dibrugarh\n",
      "Jorhat\n",
      "Kamrup\n",
      "Sonitpur\n",
      "\n",
      "https://pin-code.org.in/hospitals/listing/bihar\n",
      "\n",
      "Darbhanga\n",
      "Gaya\n",
      "Muzaffarpur\n",
      "Patna\n",
      "\n"
     ]
    }
   ],
   "source": [
    "count=0\n",
    "for eachState in state_list:\n",
    "    state=eachState.lower()\n",
    "    URL = 'https://pin-code.org.in/hospitals/listing/'+state\n",
    "    print(URL)\n",
    "    page = requests.get(URL)\n",
    "    soup = BeautifulSoup(page.content, 'html.parser')\n",
    "    list1=soup.find(class_=\"list1\")\n",
    "    print(list1.text)\n",
    "    if(count==4):\n",
    "        break\n",
    "    count+=1"
   ]
  },
  {
   "cell_type": "code",
   "execution_count": 77,
   "metadata": {},
   "outputs": [
    {
     "name": "stdout",
     "output_type": "stream",
     "text": [
      "\n",
      "\n",
      "Kesarl Sal Medical College and Research Institute\n",
      "Address: Opp. Science City, Daskroi Taluka, Bhadaj, Ahmedabad \n",
      "\n",
      "\n",
      "\n",
      "B.J. Medical College\n",
      "Address: B.J. Medical College, New Civil Hospital, Asarwa, Ahmedabad \n",
      "\n",
      "\n",
      "\n",
      "Smt. NHL Municipal Medical College\n",
      "Address: Ellis Bridge, Ahmedabad \n",
      "\n",
      "\n",
      "\n",
      "Ahmedabad Homeopathy Medical College\n",
      "Address: Bopal-Ghuma Road, Ghuma,Daskroi, Ahmedabad \n",
      "\n",
      "\n",
      "\n",
      "GMERS Medical College\n",
      "Address: GMERS Medical Collage, Sola, SG Highway, Ahmedabad \n",
      "\n",
      "\n",
      "\n",
      "Pulse Women`s Hospital\n",
      "Address: 108, Swastik Society, B/H St Xavier`s Ladies Hostel, Navrangpura, Ahmedabad \n",
      "\n",
      "\n",
      "\n",
      "Centre For Sight, Ahmedabad\n",
      "Address: 101, White Cross, 15, Patel Society, Gulbai Tekra, Ahmedabad \n",
      "\n",
      "\n",
      "\n",
      "College of Dental Sciences and Research\n",
      "Address: College of Dental Sciences and Research Centre, Ahmedabad, Opp. Pleasure Club, Near Bhopal, Manipur Ta. Sanand \n",
      "\n",
      "\n",
      "\n"
     ]
    }
   ],
   "source": [
    "url='https://pin-code.org.in/hospitals/listing/gujarat/ahmedabad'\n",
    "pg=requests.get(url)\n",
    "soup = BeautifulSoup(pg.content, 'html.parser')\n",
    "list1=soup.find('div',class_=\"row addressWrap mt-2\")\n",
    "print(list1.text)"
   ]
  },
  {
   "cell_type": "code",
   "execution_count": 2,
   "metadata": {},
   "outputs": [],
   "source": [
    "URL = 'https://pin-code.org.in/hospitals/details/bihar/darbhanga/darbhanga-medical-college-and-hospital'\n",
    "page = requests.get(URL)"
   ]
  },
  {
   "cell_type": "code",
   "execution_count": 4,
   "metadata": {},
   "outputs": [],
   "source": [
    "soup = BeautifulSoup(page.content, 'html.parser')"
   ]
  },
  {
   "cell_type": "code",
   "execution_count": 16,
   "metadata": {},
   "outputs": [],
   "source": [
    "list1=soup.find_all('p')"
   ]
  },
  {
   "cell_type": "code",
   "execution_count": null,
   "metadata": {},
   "outputs": [],
   "source": [
    "dict_label_value={}"
   ]
  },
  {
   "cell_type": "code",
   "execution_count": 20,
   "metadata": {},
   "outputs": [
    {
     "name": "stdout",
     "output_type": "stream",
     "text": [
      "Hint: Please select state, district to search hospital.\n",
      "======\n",
      "Name:  Darbhanga Medical College and Hospital\n",
      "======\n",
      "State: Bihar\n",
      "======\n",
      "City:  DARBHANGA\n",
      "======\n",
      " Category:  Public\n",
      "======\n",
      " Type:  Hospital\n",
      "======\n",
      " Contact No:  06272 233092, 06272 233228\n",
      "======\n",
      " Website: http://darbhangamedicalcollege.in\n",
      "======\n",
      " Systems of Medicine:  Allopathic\n",
      "======\n",
      " Address: Laheriasaria, Darbhanga\n",
      "======\n",
      " To know the complete details about Darbhanga Medical College and Hospital DARBHANGA Laheriasaria, Darbhanga please submit your question, hospital expert will contact you.\n",
      "======\n",
      "A Pincode is a Postal Index Number in the post office numbering. PIN Code is a post code system used by India Post Department for the delivery of posts across INDIA. The PIN code is six digits long.\n",
      "======\n"
     ]
    }
   ],
   "source": [
    "for i in list1:\n",
    "    txt=i.get_text()\n",
    "    print(txt)\n",
    "    print(\"======\")"
   ]
  },
  {
   "cell_type": "code",
   "execution_count": null,
   "metadata": {},
   "outputs": [],
   "source": []
  }
 ],
 "metadata": {
  "kernelspec": {
   "display_name": "Python 3",
   "language": "python",
   "name": "python3"
  },
  "language_info": {
   "codemirror_mode": {
    "name": "ipython",
    "version": 3
   },
   "file_extension": ".py",
   "mimetype": "text/x-python",
   "name": "python",
   "nbconvert_exporter": "python",
   "pygments_lexer": "ipython3",
   "version": "3.7.4"
  }
 },
 "nbformat": 4,
 "nbformat_minor": 2
}
